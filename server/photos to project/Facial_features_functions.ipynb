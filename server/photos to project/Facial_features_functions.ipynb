{
 "cells": [
  {
   "cell_type": "markdown",
   "id": "6abb3d98",
   "metadata": {},
   "source": [
    "עינים רמת מיקוד וסבלנות"
   ]
  },
  {
   "cell_type": "markdown",
   "id": "ed94f4d0",
   "metadata": {},
   "source": [
    "חישוב של המרחק בין שני הקצוות הפנימיים של העיניים פחות הממצוע של רוחב שתי \n",
    "ממוצע עליון(כשהעיניים רחוקות) : 0.12700866162776947\n",
    "ממוצע תחתון(כשהעיניים צמודות) : 0.07645869851112366\n"
   ]
  },
  {
   "cell_type": "code",
   "execution_count": 24,
   "id": "5f30da58",
   "metadata": {},
   "outputs": [],
   "source": [
    "def f1():\n",
    "    return (((detection_result.face_landmarks[0][362].x-detection_result.face_landmarks[0][133].x)-(((detection_result.face_landmarks[0][359].x-detection_result.face_landmarks[0][362].x)+(detection_result.face_landmarks[0][130].x-detection_result.face_landmarks[0][133].x))/2))- 0.07645869851112366)/(0.12700866162776947- 0.07645869851112366)"
   ]
  },
  {
   "cell_type": "markdown",
   "id": "5d14ceae",
   "metadata": {},
   "source": [
    "ביטחון עצמי ע\"פ רוחב הפנים"
   ]
  },
  {
   "cell_type": "markdown",
   "id": "d4e1e6dc",
   "metadata": {},
   "source": [
    "ממוצע עליון : 0.12956019739309946  \n",
    "ממוצע תחתון : 0.03217984884977341  \n",
    "חישוב רוחב הפנים פחות גובה הפנים"
   ]
  },
  {
   "cell_type": "code",
   "execution_count": 25,
   "id": "4d5da1de",
   "metadata": {},
   "outputs": [],
   "source": [
    "def f2():\n",
    "    return ((detection_result.face_landmarks[0][454].x-detection_result.face_landmarks[0][234].x)-(detection_result.face_landmarks[0][152].y-detection_result.face_landmarks[0][10].y)-0.03217984884977341)/(0.12956019739309946-0.03217984884977341)"
   ]
  },
  {
   "cell_type": "markdown",
   "id": "23deffe4",
   "metadata": {},
   "source": [
    "כושר שיפוט משתנה ע\"פ מיקום הקצוות הפנימיים של העיניים האחד ביחס לשני:\n"
   ]
  },
  {
   "cell_type": "markdown",
   "id": "5961b539",
   "metadata": {},
   "source": [
    "ממוצע עליון: 0.003493756055831909\n",
    "ממוצע תחתון: 0.002233022451400757\n",
    "חישוב ההפרש בין גובה הקצוות הפנימיים של העיניים 133,362"
   ]
  },
  {
   "cell_type": "code",
   "execution_count": 26,
   "id": "f5e4550c",
   "metadata": {},
   "outputs": [],
   "source": [
    "def f3():\n",
    "    if detection_result.face_landmarks and len(detection_result.face_landmarks[0]) > max(133, 362):\n",
    "        return (detection_result.face_landmarks[0][133].y - detection_result.face_landmarks[0][362].y-0.002233022451400757)/(0.003493756055831909-0.002233022451400757)\n",
    "    else:\n",
    "        return None"
   ]
  },
  {
   "cell_type": "markdown",
   "id": "6a68f31d",
   "metadata": {},
   "source": [
    "תפיסה ביקורתית מול עיגול פינות ע\"פ קצוות העיניים החיצוניות ונטייתן:"
   ]
  },
  {
   "cell_type": "markdown",
   "id": "d0350286",
   "metadata": {},
   "source": [
    "חישוב השיפוע של קצוות העיניים  ,263,359"
   ]
  },
  {
   "cell_type": "code",
   "execution_count": 27,
   "id": "f3ab0ff2",
   "metadata": {},
   "outputs": [],
   "source": [
    "# def f4():\n",
    "#     return (detection_result.face_landmarks[0][33].y-detection_result.face_landmarks[0][246].y)/(detection_result.face_landmarks[0][33].x-detection_result.face_landmarks[0][246].x)\n",
    "def f4():\n",
    "    y1 = detection_result.face_landmarks[0][246].y  # קצה חיצוני של העין הימנית\n",
    "    y2 = detection_result.face_landmarks[0][130].y  # קצה חיצוני עליון של העין הימנית\n",
    "    x1 = detection_result.face_landmarks[0][246].x\n",
    "    x2 = detection_result.face_landmarks[0][130].x\n",
    "    # print(f\"Filename: {filename}\")\n",
    "    # print(f\"y1 (landmark 130): {y1}, x1 (landmark 130): {x1}\")\n",
    "    # print(f\"y2 (landmark 246): {y2}, x2 (landmark 246): {x2}\")\n",
    "    # להפוך את החיסור בין y1 ל-y2 כדי שהשיפוע ייצא חיובי כשחלק עליון נוטה למעלה\n",
    "    return ((1-y1) -(1-y2) ) / (x1 - x2)\n",
    "# יש אפשרות במקום כל הסיבוך הזה להשוות את הים של הנקודות 33 ו-246\n",
    "# ואז לפי זה להחליט את השיפוע"
   ]
  },
  {
   "cell_type": "markdown",
   "id": "5a48d897",
   "metadata": {},
   "source": [
    "תכונת הבררנות / חביבות מאופיינת על ידי מרחק העין לגבה.\n",
    "בררנות - גובה העין והמרחק ממנה זהים ומעלה.\n",
    "חביבות - גבות קרובות לעין."
   ]
  },
  {
   "cell_type": "markdown",
   "id": "f2b7f98d",
   "metadata": {},
   "source": [
    "חישוב ההפרש בין גובה העין לבין גובה הגבה\n",
    "ממוצע עליון (עיניים קרובות לגבה) : 0.0030866697430610656\n",
    "ממוצע תחתון (עיניים רחוקות מהגבה) : -0.028852452337741853"
   ]
  },
  {
   "cell_type": "code",
   "execution_count": 28,
   "id": "4f079ab7",
   "metadata": {},
   "outputs": [],
   "source": [
    "def f5():\n",
    "    return (detection_result.face_landmarks[0][145].y-detection_result.face_landmarks[0][159].y)-(detection_result.face_landmarks[0][159].y-detection_result.face_landmarks[0][52].y)"
   ]
  },
  {
   "cell_type": "markdown",
   "id": "09b39878",
   "metadata": {},
   "source": [
    "רמת עצמאות ע\"פ רוחב הנחיריים\n",
    "נחיריים צרים- עצמאות ברמה נמוכה (עובד טוב בצוות)\n",
    "נחיריים רחבים - עצמאות ברמה גבוהה."
   ]
  },
  {
   "cell_type": "markdown",
   "id": "2cf26fca",
   "metadata": {},
   "source": [
    "חישוב רוחב נחיר\n",
    "ממוצע עליון(נחיריים רחבים) : 0.20191012850885554\n",
    "ממוצע תחתון(נחיריים צרים) : -0.0339355289936065"
   ]
  },
  {
   "cell_type": "code",
   "execution_count": 29,
   "id": "fb0473de",
   "metadata": {},
   "outputs": [],
   "source": [
    "def f6():\n",
    "    return (detection_result.face_landmarks[0][242].x-detection_result.face_landmarks[0][235].x-0.033935528993606565)/0.04440926015377045-0.033935528993606565"
   ]
  },
  {
   "cell_type": "markdown",
   "id": "c84c170b",
   "metadata": {},
   "source": [
    "חישוב השיפוע בין שתי הנקודות של קצה \n",
    "תכונת האופטימיות / פסימיות מאופיינת על ידי הפינות החיצוניות של השפתיים\n",
    "קצות שפתיים נוטים כלפי מטה - פסימיות.\n",
    "קצות שפתיים במאוזן - מצב מאוזן.\n",
    "קצות שפתיים נוטים כלפי מעלה - אופטימיות.\n",
    "ממוצע עליון(קצה נוטה כלפי מטה) : 0.16700341379448597\n",
    "ממוצע תחתון(נוטה כלפי מעלה) : -0.24720191558467253\n"
   ]
  },
  {
   "cell_type": "code",
   "execution_count": 30,
   "id": "5d780f96",
   "metadata": {},
   "outputs": [],
   "source": [
    "def f7():\n",
    "    return ((1-detection_result.face_landmarks[0][61].y)-(1-detection_result.face_landmarks[0][88].y))/(detection_result.face_landmarks[0][61].x-detection_result.face_landmarks[0][88].x)"
   ]
  },
  {
   "cell_type": "markdown",
   "id": "7e9d000a",
   "metadata": {},
   "source": [
    "תכונת המניע הגופני/ השכלי מאופיינת ע\"י המרווח בין בסיס האף לבסיס הסנטר\n",
    "מרחק קצר בין הסנטר לאף- המניע הוא שכלי\n",
    "מרחק ארוך - האדם יפעל ע\"פ מניע פיזי, תגובה פיזית.\n",
    "מרחק ממוצע-ממוצע.\n",
    "ממוצע עליון(מרחק ארוך) : 0.23947883248329163\n",
    "ממוצע תחתון(מרחק קצר) : 0.12524280250072478"
   ]
  },
  {
   "cell_type": "code",
   "execution_count": 31,
   "id": "e3e88189",
   "metadata": {},
   "outputs": [],
   "source": [
    "def f8():\n",
    "    return detection_result.face_landmarks[0][152].y-detection_result.face_landmarks[0][2].y"
   ]
  },
  {
   "cell_type": "markdown",
   "id": "5b0eb54c",
   "metadata": {},
   "source": [
    "תכונת כובד הראש ורצינות/זרימה וקלילות מאופיינת ע\"י מיקום העיניים ביחס לגשר\n",
    "האף\n",
    "• עיניים מרוחקות מגשר האף)עיניים שקועות( - רצינו ת ברמה גבוהה.\n",
    "• עיניים במרחק ממוצע מגשר האף- רמת רצינות ממוצעת .\n",
    "• עיניים קרובות לגשר האף - רמת רצינות נמוכה אנשים אלו הם זורמים\n",
    "וקלילים ."
   ]
  },
  {
   "cell_type": "code",
   "execution_count": 32,
   "id": "04dd649c",
   "metadata": {},
   "outputs": [],
   "source": [
    "def f9():\n",
    "    return detection_result.face_landmarks[0][6].z-min(detection_result.face_landmarks[0][463].z,detection_result.face_landmarks[0][243].z)"
   ]
  },
  {
   "cell_type": "markdown",
   "id": "e6109e06",
   "metadata": {},
   "source": [
    "תכונת הנחישות מאופיינת ע\"י מיקום הסנטר ביחס לגשר האף\n",
    "• סנטר משופע לאחור - נחישות ברמה נמוכה.\n",
    "• סנטר בקו ישר עם גשר האף - נחישות ברמה ממוצעת .\n",
    "• סנטר יוצא החוצה - נחישות ברמה גבוהה"
   ]
  },
  {
   "cell_type": "code",
   "execution_count": 33,
   "id": "6dc1af66",
   "metadata": {},
   "outputs": [],
   "source": [
    "# def f10():"
   ]
  },
  {
   "cell_type": "markdown",
   "id": "4175a1ca",
   "metadata": {},
   "source": [
    "תכונת הפזיזות מאופיינת ע\"י היחסיות בולטות השפתיים מעבר לגשר הא ף\n",
    "• השפתיים אינן בולטות - פזיזות ברמה נמוכה.\n",
    "• השפתיים בולטות מעט קדימה - פזיזות ברמה בינונית .\n",
    "• השפתיים בולטות באופן ניכר מעבר לגשר האף - פזיזות ברמה גבוהה."
   ]
  },
  {
   "cell_type": "code",
   "execution_count": 34,
   "id": "537e8dcb",
   "metadata": {},
   "outputs": [],
   "source": [
    "def f11():\n",
    "    return detection_result.face_landmarks[0][6].z-(detection_result.face_landmarks[0][13].z+detection_result.face_landmarks[0][13].z)/2"
   ]
  },
  {
   "cell_type": "markdown",
   "id": "f9407562",
   "metadata": {},
   "source": [
    "גבות דקות מעידות על רגישות גבוהה, עדינות ואופי רגיש ."
   ]
  },
  {
   "cell_type": "code",
   "execution_count": 35,
   "id": "bc9edd2b",
   "metadata": {},
   "outputs": [],
   "source": [
    "# def f12():\n",
    "#  336,285,296,334,293,295,282,283,     105,52,63,53,66,65,55,107"
   ]
  },
  {
   "cell_type": "markdown",
   "id": "9be86def",
   "metadata": {},
   "source": [
    "תכונת הביטוי הרגשי מאופיינת ע\"י גודל קשתית העין בהשוואה ללובן העין\n",
    "• קשתית עין גדולה - אדם זה מרגיש ומביע את רגשותיו בצורה פתוחה.\n",
    "• קשתית עין קטנה - קושי רב בהבעת רגשות מצטיירים כאדישים"
   ]
  },
  {
   "cell_type": "code",
   "execution_count": 36,
   "id": "3ff71d02",
   "metadata": {},
   "outputs": [],
   "source": [
    "def f13():\n",
    "    return (abs(detection_result.face_landmarks[0][473].x - detection_result.face_landmarks[0][362].x) * 2)/(abs(detection_result.face_landmarks[0][263].x - detection_result.face_landmarks[0][362].x))"
   ]
  },
  {
   "cell_type": "markdown",
   "id": "a69c2c59",
   "metadata": {},
   "source": [
    "תכונת חמימות/ עסוק בעצמו מאופיינת ע\"פ רוחב הפה ביחס לפנ ים\n",
    "• פה גדול- מעיד על אנשים חמים ולבביים .\n",
    "• רוחב הפה כרוחב האף או מעט יותר - מעיד על אנשים העסוקים בעצמם ."
   ]
  },
  {
   "cell_type": "code",
   "execution_count": 37,
   "id": "b71e0216",
   "metadata": {},
   "outputs": [],
   "source": [
    "def f14():\n",
    "    return abs(detection_result.face_landmarks[0][291].x - detection_result.face_landmarks[0][61].x) -abs(detection_result.face_landmarks[0][98].x - detection_result.face_landmarks[0][127].x)"
   ]
  },
  {
   "cell_type": "markdown",
   "id": "464b4944",
   "metadata": {},
   "source": [
    "לקיחת דברים באופן אישי / אינו רגיש לביקורת מאופיינת ע\"י המרחק בין בסיס הנחיריים\n",
    "לשפה העליונה\n",
    "• אף קרוב לשפה העליונה - אדם הלוקח ביקורת בצורה אישית .\n",
    "• אף רחוק מהשפה העליונה- אדם שאינו רגיש לביקורת, קשה מאד להרגיזו ."
   ]
  },
  {
   "cell_type": "code",
   "execution_count": 38,
   "id": "667d8f86",
   "metadata": {},
   "outputs": [],
   "source": [
    "def f15():\n",
    "    return detection_result.face_landmarks[0][13].y-detection_result.face_landmarks[0][2].y"
   ]
  },
  {
   "cell_type": "markdown",
   "id": "e4443ea3",
   "metadata": {},
   "source": [
    "תכונת הזהרות מאופיינת ע\"י שקע או גומה באזור שבין הגבות\n",
    "• ככל שאזור זה שקוע יותר אדם זה זהיר יותר .\n",
    "• ככל שאזור זה שטוח או בולט או בולט יותר כך אדם זה פחות זהיר ."
   ]
  },
  {
   "cell_type": "code",
   "execution_count": 39,
   "id": "04c45354",
   "metadata": {},
   "outputs": [],
   "source": [
    "def f22():\n",
    "    return detection_result.face_landmarks[0][10].z-detection_result.face_landmarks[0][151].z"
   ]
  },
  {
   "cell_type": "markdown",
   "id": "a0008a0a",
   "metadata": {},
   "source": [
    "תכונת הזיכרון החזותי מאופיינת ע\"י בליטה של העצם בקצות הגבה."
   ]
  },
  {
   "cell_type": "code",
   "execution_count": null,
   "id": "cd2e1d51",
   "metadata": {},
   "outputs": [],
   "source": []
  },
  {
   "cell_type": "markdown",
   "id": "6ff3fe4c",
   "metadata": {},
   "source": [
    "תכונת קוצר הרוח/ הריכוז מאופיינת ע\"י זווית המצח העליון\n",
    "• ככל שקו המצח מתחילת המצח בשיפוע חיצוני כך יכולת הריכוז גבוהה יותר.\n",
    "• ככל שקו המצח מתחילת המצח בשיפוע פנימי כך יכולת הריכוז נמוכה יותר."
   ]
  },
  {
   "cell_type": "code",
   "execution_count": null,
   "id": "6faece34",
   "metadata": {},
   "outputs": [],
   "source": []
  },
  {
   "cell_type": "markdown",
   "id": "d460b6bc",
   "metadata": {},
   "source": [
    "תכונת היכולת ההדרמטית מאופיינת ע\"י הקשת המתרוממת כלפי מעלה הנוצרת ע\"י הגבה ויורדת, ככל שהזווית הפנימית של הקשת פונה יותר למטה כך הנטיה הדרמטית יותר גבוהה."
   ]
  },
  {
   "cell_type": "code",
   "execution_count": 40,
   "id": "688dcac0",
   "metadata": {},
   "outputs": [],
   "source": [
    "def f15():\n",
    "    return detection_result.face_landmarks[0][6].z-detection_result.face_landmarks[0][152].z"
   ]
  },
  {
   "cell_type": "markdown",
   "id": "fd3f527e",
   "metadata": {},
   "source": [
    "תכונת יכולת הניהול/ מתן השירות והטיפול מאופיינת ע\"י צורת גשר האף\n",
    " אף קמור- בעל יכולת ניהולית גבוהה.\n",
    " אף ישר-בעל יכולת ניהולית ממוצעת וכן בעל יכולת מתן שירות וטיפול.\n",
    " אף קעור-בעל יכולת מתן שירות וטיפול גבוהה."
   ]
  },
  {
   "cell_type": "code",
   "execution_count": null,
   "id": "47336c27",
   "metadata": {},
   "outputs": [],
   "source": []
  },
  {
   "cell_type": "markdown",
   "id": "48e15ea1",
   "metadata": {},
   "source": []
  },
  {
   "cell_type": "markdown",
   "id": "7198d982",
   "metadata": {},
   "source": [
    "תכונת היכולת ההדרמטית מאופיינת ע\"י הקשת המתרוממת כלפי מעלה הנוצרת ע\"י הגבה ויורדת, ככל שהזווית הפנימית של הקשת פונה יותר למטה כך הנטיה הדרמטית יותר גבוהה."
   ]
  },
  {
   "cell_type": "code",
   "execution_count": 41,
   "id": "06fd2cba",
   "metadata": {},
   "outputs": [
    {
     "data": {
      "text/plain": [
       "(65, 53, 52, 282, 283, 295)"
      ]
     },
     "execution_count": 41,
     "metadata": {},
     "output_type": "execute_result"
    }
   ],
   "source": [
    "65,53,52  ,282,283,295"
   ]
  },
  {
   "cell_type": "markdown",
   "id": "5b27938c",
   "metadata": {},
   "source": [
    "תכונת ההחלטיות מאופיינת ע\"י חדות זווית המצח, ככל שהשיפוע תלול יותר כך האדם החלטי יותר.\n",
    "לבדוק אם זה רלונטי לבדוק ע\"פ שתי נקודות בלבד"
   ]
  },
  {
   "cell_type": "code",
   "execution_count": 42,
   "id": "c2df9a75",
   "metadata": {},
   "outputs": [
    {
     "data": {
      "text/plain": [
       "(10, 51)"
      ]
     },
     "execution_count": 42,
     "metadata": {},
     "output_type": "execute_result"
    }
   ],
   "source": [
    "10,51 "
   ]
  },
  {
   "cell_type": "markdown",
   "id": "8189b8c7",
   "metadata": {},
   "source": [
    "תכונת הירידה והדאגה לפרטים מאופיינת ע\"י בליטה ברורה/מודגשת בדיוק מעל הקצוות הפנימיים של הגבות, ככל שהתלים בולטים יותר כך אדם  זה נותן תשומת לב לפרטים ונכנס לעומק הפרטים הקטנים ביותר.\n",
    "הנקודות שיש הם נורא גבוהות השאלה אם זה בסדר"
   ]
  },
  {
   "cell_type": "code",
   "execution_count": 43,
   "id": "19dd2daa",
   "metadata": {},
   "outputs": [
    {
     "data": {
      "text/plain": [
       "(108, 337)"
      ]
     },
     "execution_count": 43,
     "metadata": {},
     "output_type": "execute_result"
    }
   ],
   "source": [
    "108,337"
   ]
  },
  {
   "cell_type": "markdown",
   "id": "7648a138",
   "metadata": {},
   "source": [
    "יכולת הערכה מכאנית מאופיינת ע\"י גבה בצורת חצי עיגול)חצי ירח (\n",
    "• הגבה אינה מעוגלת באופן הנראה לעין - יכולת הערכה מכאנית ברמה\n",
    "נמוכה.\n",
    "• ניתן לראות מעוגלות ראשונית בצורת הגבה - לאדם זה יכולת הערכה\n",
    "מכאנית ברמה בינונית ויכולת ארגונית מסוימת.\n",
    "• הגבה מעוגלת בצורה ברורה, כצורת חצי ירח - יכולת הערכה מכאנית ברמה\n",
    "גבוהה."
   ]
  },
  {
   "cell_type": "code",
   "execution_count": 44,
   "id": "dba8b13e",
   "metadata": {},
   "outputs": [
    {
     "data": {
      "text/plain": [
       "(46, 53, 52, 65, 276, 283, 282, 295)"
      ]
     },
     "execution_count": 44,
     "metadata": {},
     "output_type": "execute_result"
    }
   ],
   "source": [
    "46,53,52,65,   276,283,282,295"
   ]
  },
  {
   "cell_type": "markdown",
   "id": "4587f9a8",
   "metadata": {},
   "source": [
    "תכונת המקוריות מאופיינת ע\"י מלאות המצח ככל שהמצח מעוגל יותר כך גבוהה יותר רמת\n",
    "המקוריות אצל אותו אדם, תכונה זו מעידה על חשיבה עצמאית ויצירתית של האדם ."
   ]
  },
  {
   "cell_type": "code",
   "execution_count": 45,
   "id": "66c17a82",
   "metadata": {},
   "outputs": [
    {
     "data": {
      "text/plain": [
       "(10, 151, 9, 8)"
      ]
     },
     "execution_count": 45,
     "metadata": {},
     "output_type": "execute_result"
    }
   ],
   "source": [
    "10,151,9,8"
   ]
  }
 ],
 "metadata": {
  "kernelspec": {
   "display_name": "Python 3.10",
   "language": "python",
   "name": "myenv"
  },
  "language_info": {
   "codemirror_mode": {
    "name": "ipython",
    "version": 3
   },
   "file_extension": ".py",
   "mimetype": "text/x-python",
   "name": "python",
   "nbconvert_exporter": "python",
   "pygments_lexer": "ipython3",
   "version": "3.10.0"
  }
 },
 "nbformat": 4,
 "nbformat_minor": 5
}
